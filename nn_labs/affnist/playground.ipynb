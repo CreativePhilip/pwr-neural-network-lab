{
 "cells": [
  {
   "cell_type": "code",
   "execution_count": 84,
   "outputs": [],
   "source": [
    "from scipy.io.matlab import loadmat\n",
    "import matplotlib.pyplot as plt\n",
    "import matplotlib as mpl\n",
    "from numpy.typing import NDArray\n",
    "import numpy as np"
   ],
   "metadata": {
    "collapsed": false,
    "ExecuteTime": {
     "end_time": "2023-10-07T19:51:18.353569Z",
     "start_time": "2023-10-07T19:51:18.349141Z"
    }
   },
   "id": "1b16faaa4ce80773"
  },
  {
   "cell_type": "code",
   "execution_count": 147,
   "outputs": [],
   "source": [
    "import scipy\n",
    "\n",
    "def load_matlab(file: str):\n",
    "    def _check_keys(matlab_data):\n",
    "        for key in matlab_data:\n",
    "            if isinstance(matlab_data[key], scipy.io.matlab.mat_struct):\n",
    "                matlab_data[key] = _to_dict(matlab_data[key])\n",
    "        \n",
    "        return matlab_data\n",
    "    \n",
    "    def _to_dict(matlab_object):\n",
    "        output_data = {}\n",
    "        for name in matlab_object._fieldnames:\n",
    "            elem = matlab_object.__dict__[name]\n",
    "            if isinstance(elem, scipy.io.matlab.mat_struct):\n",
    "                output_data[name] = _to_dict(elem)\n",
    "            else:\n",
    "                output_data[name] = elem\n",
    "        return output_data\n",
    "         \n",
    "    data = loadmat(file, struct_as_record=False, squeeze_me=True)\n",
    "    data = _check_keys(data)\n",
    "    \n",
    "    x = data[\"affNISTdata\"][\"image\"].transpose()\n",
    "    y = data[\"affNISTdata\"][\"label_int\"]\n",
    "    \n",
    "    return x, y"
   ],
   "metadata": {
    "collapsed": false,
    "ExecuteTime": {
     "end_time": "2023-10-07T20:21:07.495808Z",
     "start_time": "2023-10-07T20:21:07.490957Z"
    }
   },
   "id": "465c55c3cbf730f5"
  },
  {
   "cell_type": "code",
   "execution_count": 151,
   "outputs": [
    {
     "data": {
      "text/plain": "(1600,)"
     },
     "execution_count": 151,
     "metadata": {},
     "output_type": "execute_result"
    }
   ],
   "source": [
    "x, y = load_matlab(\"training_and_validation_batches/1.mat\")\n",
    "\n"
   ],
   "metadata": {
    "collapsed": false,
    "ExecuteTime": {
     "end_time": "2023-10-07T20:21:39.633762Z",
     "start_time": "2023-10-07T20:21:39.605927Z"
    }
   },
   "id": "44297bfa8ca48a2f"
  },
  {
   "cell_type": "code",
   "execution_count": 140,
   "outputs": [],
   "source": [],
   "metadata": {
    "collapsed": false,
    "ExecuteTime": {
     "end_time": "2023-10-07T20:08:33.648193Z",
     "start_time": "2023-10-07T20:08:33.600297Z"
    }
   },
   "id": "2c267e12c0531511"
  },
  {
   "cell_type": "code",
   "execution_count": null,
   "outputs": [],
   "source": [],
   "metadata": {
    "collapsed": false
   },
   "id": "c2b1277c3ddaf794"
  }
 ],
 "metadata": {
  "kernelspec": {
   "display_name": "Python 3",
   "language": "python",
   "name": "python3"
  },
  "language_info": {
   "codemirror_mode": {
    "name": "ipython",
    "version": 2
   },
   "file_extension": ".py",
   "mimetype": "text/x-python",
   "name": "python",
   "nbconvert_exporter": "python",
   "pygments_lexer": "ipython2",
   "version": "2.7.6"
  }
 },
 "nbformat": 4,
 "nbformat_minor": 5
}
