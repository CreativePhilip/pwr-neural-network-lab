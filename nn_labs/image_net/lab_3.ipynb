{
 "cells": [
  {
   "cell_type": "code",
   "execution_count": 1,
   "outputs": [],
   "source": [
    "import numpy as np"
   ],
   "metadata": {
    "collapsed": false,
    "ExecuteTime": {
     "end_time": "2023-12-09T18:52:20.486790Z",
     "start_time": "2023-12-09T18:52:20.376152Z"
    }
   },
   "id": "f76a833fa7dc68e5"
  },
  {
   "cell_type": "code",
   "execution_count": 2,
   "outputs": [],
   "source": [
    "from nn_labs.nn.layers import BaseLayer\n",
    "from nn_labs.nn.activation_functions import BaseActivationFunction\n",
    "\n",
    "from numpy.typing import NDArray\n",
    "\n",
    "class Network:\n",
    "    def __init__(self):\n",
    "        self.layers: list[BaseLayer | BaseActivationFunction] = []\n",
    "    \n",
    "    def add_layer(self, l: BaseLayer | BaseActivationFunction):\n",
    "        self.layers.append(l)\n",
    "        \n",
    "    def forward(self, x_in: NDArray) -> NDArray:\n",
    "        current = x_in\n",
    "        \n",
    "        for layer in self.layers:\n",
    "            current = layer.forward(current)\n",
    "            \n",
    "        return current\n",
    "    \n",
    "    def backward(self, d_loss: NDArray):\n",
    "        current_gradient = d_loss\n",
    "        \n",
    "        for layer in reversed(self.layers):\n",
    "            print(current_gradient.shape, layer.__class__)\n",
    "            layer.backward(current_gradient)\n",
    "            \n",
    "            current_gradient = layer.d_inputs"
   ],
   "metadata": {
    "collapsed": false,
    "ExecuteTime": {
     "end_time": "2023-12-09T18:52:20.493456Z",
     "start_time": "2023-12-09T18:52:20.485374Z"
    }
   },
   "id": "initial_id"
  },
  {
   "cell_type": "code",
   "execution_count": 3,
   "outputs": [],
   "source": [
    "from nn_labs.nn.layers import Conv2D, DenseLayer, Flatten, MaxPool2D\n",
    "from nn_labs.nn.activation_functions import ReLU, Sigmoid\n",
    "\n",
    "bob_net = Network()\n",
    "\n",
    "bob_net.add_layer(Conv2D(1, 2, 16, 1))\n",
    "bob_net.add_layer(MaxPool2D(2, 2))\n",
    "bob_net.add_layer(Conv2D(16, 2, 16, 1))\n",
    "bob_net.add_layer(MaxPool2D(2, 2))\n",
    "bob_net.add_layer(Flatten())\n",
    "bob_net.add_layer(DenseLayer(256, 400))\n",
    "bob_net.add_layer(ReLU())\n",
    "bob_net.add_layer(DenseLayer(400, 784))\n",
    "bob_net.add_layer(Sigmoid())"
   ],
   "metadata": {
    "collapsed": false,
    "ExecuteTime": {
     "end_time": "2023-12-09T18:52:20.501912Z",
     "start_time": "2023-12-09T18:52:20.497332Z"
    }
   },
   "id": "86f02943f3613560"
  },
  {
   "cell_type": "code",
   "execution_count": 4,
   "outputs": [
    {
     "data": {
      "text/plain": "(100, 784)"
     },
     "execution_count": 4,
     "metadata": {},
     "output_type": "execute_result"
    }
   ],
   "source": [
    "x = np.ones((100, 1, 28, 28))\n",
    "\n",
    "out = bob_net.forward(x)\n",
    "\n",
    "out.shape"
   ],
   "metadata": {
    "collapsed": false,
    "ExecuteTime": {
     "end_time": "2023-12-09T18:52:20.652507Z",
     "start_time": "2023-12-09T18:52:20.502495Z"
    }
   },
   "id": "353b689e15cefb80"
  },
  {
   "cell_type": "code",
   "execution_count": 5,
   "outputs": [
    {
     "name": "stdout",
     "output_type": "stream",
     "text": [
      "Epoch: 0\n",
      "(4086, 784) <class 'nn_labs.nn.activation_functions.Sigmoid'>\n",
      "(4086, 784) <class 'nn_labs.nn.layers.DenseLayer'>\n",
      "(4086, 400) <class 'nn_labs.nn.activation_functions.ReLU'>\n",
      "(4086, 400) <class 'nn_labs.nn.layers.DenseLayer'>\n",
      "(4086, 256) <class 'nn_labs.nn.layers.Flatten'>\n",
      "(4086, 16, 4, 4) <class 'nn_labs.nn.layers.MaxPool2D'>\n",
      "(4086, 16, 10, 10) <class 'nn_labs.nn.layers.Conv2D'>\n",
      "(4086, 16, 12, 12, 2, 2)\n",
      "(16, 16, 2, 2)\n",
      "(4086, 12, 12, 16)\n",
      "---------------------------------------------------------------------\n",
      "(4086, 12, 12, 16) <class 'nn_labs.nn.layers.MaxPool2D'>\n"
     ]
    },
    {
     "ename": "IndexError",
     "evalue": "index 12 is out of bounds for axis 1 with size 12",
     "output_type": "error",
     "traceback": [
      "\u001B[0;31m---------------------------------------------------------------------------\u001B[0m",
      "\u001B[0;31mIndexError\u001B[0m                                Traceback (most recent call last)",
      "Cell \u001B[0;32mIn[5], line 31\u001B[0m\n\u001B[1;32m     28\u001B[0m loss \u001B[38;5;241m=\u001B[39m loss_fn\u001B[38;5;241m.\u001B[39mcalculate(prediction, x_cmp)\n\u001B[1;32m     30\u001B[0m loss_fn\u001B[38;5;241m.\u001B[39mbackward(prediction, x_cmp)\n\u001B[0;32m---> 31\u001B[0m \u001B[43mbob_net\u001B[49m\u001B[38;5;241;43m.\u001B[39;49m\u001B[43mbackward\u001B[49m\u001B[43m(\u001B[49m\u001B[43mloss_fn\u001B[49m\u001B[38;5;241;43m.\u001B[39;49m\u001B[43md_inputs\u001B[49m\u001B[43m)\u001B[49m\n",
      "Cell \u001B[0;32mIn[2], line 26\u001B[0m, in \u001B[0;36mNetwork.backward\u001B[0;34m(self, d_loss)\u001B[0m\n\u001B[1;32m     24\u001B[0m \u001B[38;5;28;01mfor\u001B[39;00m layer \u001B[38;5;129;01min\u001B[39;00m \u001B[38;5;28mreversed\u001B[39m(\u001B[38;5;28mself\u001B[39m\u001B[38;5;241m.\u001B[39mlayers):\n\u001B[1;32m     25\u001B[0m     \u001B[38;5;28mprint\u001B[39m(current_gradient\u001B[38;5;241m.\u001B[39mshape, layer\u001B[38;5;241m.\u001B[39m\u001B[38;5;18m__class__\u001B[39m)\n\u001B[0;32m---> 26\u001B[0m     \u001B[43mlayer\u001B[49m\u001B[38;5;241;43m.\u001B[39;49m\u001B[43mbackward\u001B[49m\u001B[43m(\u001B[49m\u001B[43mcurrent_gradient\u001B[49m\u001B[43m)\u001B[49m\n\u001B[1;32m     28\u001B[0m     current_gradient \u001B[38;5;241m=\u001B[39m layer\u001B[38;5;241m.\u001B[39md_inputs\n",
      "File \u001B[0;32m~/code/uni/nn/nn_labs/nn/layers.py:272\u001B[0m, in \u001B[0;36mMaxPool2D.backward\u001B[0;34m(self, d_values)\u001B[0m\n\u001B[1;32m    269\u001B[0m h_start \u001B[38;5;241m=\u001B[39m h \u001B[38;5;241m*\u001B[39m \u001B[38;5;28mself\u001B[39m\u001B[38;5;241m.\u001B[39mstride\n\u001B[1;32m    270\u001B[0m w_start \u001B[38;5;241m=\u001B[39m w \u001B[38;5;241m*\u001B[39m \u001B[38;5;28mself\u001B[39m\u001B[38;5;241m.\u001B[39mstride\n\u001B[0;32m--> 272\u001B[0m local_err \u001B[38;5;241m=\u001B[39m \u001B[43md_values\u001B[49m\u001B[43m[\u001B[49m\u001B[43mbatch\u001B[49m\u001B[43m,\u001B[49m\u001B[43m \u001B[49m\u001B[43mkernel\u001B[49m\u001B[43m,\u001B[49m\u001B[43m \u001B[49m\u001B[43mh\u001B[49m\u001B[43m,\u001B[49m\u001B[43m \u001B[49m\u001B[43mw\u001B[49m\u001B[43m]\u001B[49m\n\u001B[1;32m    273\u001B[0m \u001B[38;5;28mself\u001B[39m\u001B[38;5;241m.\u001B[39md_inputs[batch, kernel, h_start \u001B[38;5;241m+\u001B[39m coord_1, w_start \u001B[38;5;241m+\u001B[39m coord_2] \u001B[38;5;241m+\u001B[39m\u001B[38;5;241m=\u001B[39m local_err\n",
      "\u001B[0;31mIndexError\u001B[0m: index 12 is out of bounds for axis 1 with size 12"
     ]
    }
   ],
   "source": [
    "from nn_labs.nn.perf import MSELoss\n",
    "from nn_labs.image_net.load import load_fashion_mnist\n",
    "\n",
    "(X_train, Y_train), (X_test, Y_test) = load_fashion_mnist()\n",
    "\n",
    "X_train = X_train.reshape(-1, 1, 28, 28)\n",
    "X_test = X_test.reshape(-1, 1, 28, 28)\n",
    "\n",
    "EPOCHS = 2000\n",
    "BATCH_SIZE = 4086\n",
    "LEARNING_RATE = 10e-3\n",
    "batch_count = X_train.shape[0] // BATCH_SIZE\n",
    "\n",
    "loss_fn = MSELoss()\n",
    "\n",
    "for epoch in range(EPOCHS):\n",
    "    print(f\"Epoch: {epoch}\")\n",
    "    for batch_no in range(batch_count):\n",
    "        start_idx = batch_no * BATCH_SIZE\n",
    "        end_idx = start_idx + BATCH_SIZE\n",
    "\n",
    "        x = X_train[start_idx:end_idx]\n",
    "        y = Y_train[start_idx:end_idx]\n",
    "        \n",
    "        x_cmp = x.reshape(BATCH_SIZE, 784)\n",
    "        \n",
    "        prediction = bob_net.forward(x)\n",
    "        loss = loss_fn.calculate(prediction, x_cmp)\n",
    "        \n",
    "        loss_fn.backward(prediction, x_cmp)\n",
    "        bob_net.backward(loss_fn.d_inputs)\n"
   ],
   "metadata": {
    "collapsed": false,
    "ExecuteTime": {
     "end_time": "2023-12-09T18:52:28.652920Z",
     "start_time": "2023-12-09T18:52:20.680179Z"
    }
   },
   "id": "5fc6ff4b8fc5af16"
  },
  {
   "cell_type": "code",
   "execution_count": null,
   "outputs": [],
   "source": [],
   "metadata": {
    "collapsed": false,
    "ExecuteTime": {
     "end_time": "2023-12-09T18:52:28.659284Z",
     "start_time": "2023-12-09T18:52:28.656117Z"
    }
   },
   "id": "f1e9272c4c25a9fd"
  }
 ],
 "metadata": {
  "kernelspec": {
   "display_name": "Python 3",
   "language": "python",
   "name": "python3"
  },
  "language_info": {
   "codemirror_mode": {
    "name": "ipython",
    "version": 2
   },
   "file_extension": ".py",
   "mimetype": "text/x-python",
   "name": "python",
   "nbconvert_exporter": "python",
   "pygments_lexer": "ipython2",
   "version": "2.7.6"
  }
 },
 "nbformat": 4,
 "nbformat_minor": 5
}
