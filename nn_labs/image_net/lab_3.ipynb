{
 "cells": [
  {
   "cell_type": "code",
   "execution_count": 40,
   "outputs": [],
   "source": [
    "import numpy as np"
   ],
   "metadata": {
    "collapsed": false,
    "ExecuteTime": {
     "end_time": "2023-12-09T17:15:38.639449Z",
     "start_time": "2023-12-09T17:15:38.634952Z"
    }
   },
   "id": "f76a833fa7dc68e5"
  },
  {
   "cell_type": "code",
   "execution_count": 41,
   "outputs": [],
   "source": [
    "from nn_labs.nn.layers import BaseLayer\n",
    "from nn_labs.nn.activation_functions import BaseActivationFunction\n",
    "\n",
    "from numpy.typing import NDArray\n",
    "\n",
    "class Network:\n",
    "    def __init__(self):\n",
    "        self.layers: list[BaseLayer | BaseActivationFunction] = []\n",
    "    \n",
    "    def add_layer(self, l: BaseLayer | BaseActivationFunction):\n",
    "        self.layers.append(l)\n",
    "        \n",
    "    def forward(self, x_in: NDArray) -> NDArray:\n",
    "        current = x_in\n",
    "        \n",
    "        for layer in self.layers:\n",
    "            current = layer.forward(current)\n",
    "            \n",
    "        return current\n",
    "    \n",
    "    def backward(self, d_loss: NDArray):\n",
    "        current_gradient = d_loss\n",
    "        \n",
    "        for layer in reversed(self.layers):\n",
    "            layer.backward(current_gradient)\n",
    "            \n",
    "            current_gradient = layer.d_inputs"
   ],
   "metadata": {
    "collapsed": false,
    "ExecuteTime": {
     "end_time": "2023-12-09T17:15:38.639721Z",
     "start_time": "2023-12-09T17:15:38.638239Z"
    }
   },
   "id": "initial_id"
  },
  {
   "cell_type": "code",
   "execution_count": 42,
   "outputs": [],
   "source": [
    "from nn_labs.nn.layers import Conv2D, DenseLayer, Flatten, MaxPool2D\n",
    "from nn_labs.nn.activation_functions import ReLU, Sigmoid\n",
    "\n",
    "bob_net = Network()\n",
    "\n",
    "bob_net.add_layer(Conv2D(1, 2, 16, 1))\n",
    "bob_net.add_layer(MaxPool2D(2, 2))\n",
    "bob_net.add_layer(Conv2D(16, 2, 16, 1))\n",
    "bob_net.add_layer(MaxPool2D(2, 2))\n",
    "bob_net.add_layer(Flatten())\n",
    "bob_net.add_layer(DenseLayer(256, 400))\n",
    "bob_net.add_layer(ReLU())\n",
    "bob_net.add_layer(DenseLayer(400, 784))\n",
    "bob_net.add_layer(Sigmoid())"
   ],
   "metadata": {
    "collapsed": false,
    "ExecuteTime": {
     "end_time": "2023-12-09T17:15:38.648775Z",
     "start_time": "2023-12-09T17:15:38.642349Z"
    }
   },
   "id": "86f02943f3613560"
  },
  {
   "cell_type": "code",
   "execution_count": 43,
   "outputs": [
    {
     "data": {
      "text/plain": "(100, 784)"
     },
     "execution_count": 43,
     "metadata": {},
     "output_type": "execute_result"
    }
   ],
   "source": [
    "x = np.ones((100, 1, 28, 28))\n",
    "\n",
    "out = bob_net.forward(x)\n",
    "\n",
    "out.shape"
   ],
   "metadata": {
    "collapsed": false,
    "ExecuteTime": {
     "end_time": "2023-12-09T17:15:38.746762Z",
     "start_time": "2023-12-09T17:15:38.648154Z"
    }
   },
   "id": "353b689e15cefb80"
  },
  {
   "cell_type": "code",
   "execution_count": 44,
   "outputs": [
    {
     "name": "stdout",
     "output_type": "stream",
     "text": [
      "Epoch: 0\n",
      "Unexpected exception formatting exception. Falling back to standard exception\n"
     ]
    },
    {
     "name": "stderr",
     "output_type": "stream",
     "text": [
      "Traceback (most recent call last):\n",
      "  File \"/Users/philip/code/uni/nn/.venv/lib/python3.11/site-packages/IPython/core/interactiveshell.py\", line 3526, in run_code\n",
      "    exec(code_obj, self.user_global_ns, self.user_ns)\n",
      "  File \"/var/folders/xv/v7b525y50112w8rdmkdf28lr0000gn/T/ipykernel_52218/1345848905.py\", line 31, in <module>\n",
      "    bob_net.backward(loss_fn.d_inputs)\n",
      "  File \"/var/folders/xv/v7b525y50112w8rdmkdf28lr0000gn/T/ipykernel_52218/2344374159.py\", line 25, in backward\n",
      "    layer.backward(current_gradient)\n",
      "  File \"/Users/philip/code/uni/nn/nn_labs/nn/layers.py\", line 31, in backward\n",
      "NotImplementedError\n",
      "\n",
      "During handling of the above exception, another exception occurred:\n",
      "\n",
      "Traceback (most recent call last):\n",
      "  File \"/Users/philip/code/uni/nn/.venv/lib/python3.11/site-packages/IPython/core/interactiveshell.py\", line 2120, in showtraceback\n",
      "    stb = self.InteractiveTB.structured_traceback(\n",
      "          ^^^^^^^^^^^^^^^^^^^^^^^^^^^^^^^^^^^^^^^^\n",
      "  File \"/Users/philip/code/uni/nn/.venv/lib/python3.11/site-packages/IPython/core/ultratb.py\", line 1435, in structured_traceback\n",
      "    return FormattedTB.structured_traceback(\n",
      "           ^^^^^^^^^^^^^^^^^^^^^^^^^^^^^^^^^\n",
      "  File \"/Users/philip/code/uni/nn/.venv/lib/python3.11/site-packages/IPython/core/ultratb.py\", line 1326, in structured_traceback\n",
      "    return VerboseTB.structured_traceback(\n",
      "           ^^^^^^^^^^^^^^^^^^^^^^^^^^^^^^^\n",
      "  File \"/Users/philip/code/uni/nn/.venv/lib/python3.11/site-packages/IPython/core/ultratb.py\", line 1173, in structured_traceback\n",
      "    formatted_exception = self.format_exception_as_a_whole(etype, evalue, etb, number_of_lines_of_context,\n",
      "                          ^^^^^^^^^^^^^^^^^^^^^^^^^^^^^^^^^^^^^^^^^^^^^^^^^^^^^^^^^^^^^^^^^^^^^^^^^^^^^^^^\n",
      "  File \"/Users/philip/code/uni/nn/.venv/lib/python3.11/site-packages/IPython/core/ultratb.py\", line 1088, in format_exception_as_a_whole\n",
      "    frames.append(self.format_record(record))\n",
      "                  ^^^^^^^^^^^^^^^^^^^^^^^^^^\n",
      "  File \"/Users/philip/code/uni/nn/.venv/lib/python3.11/site-packages/IPython/core/ultratb.py\", line 970, in format_record\n",
      "    frame_info.lines, Colors, self.has_colors, lvals\n",
      "    ^^^^^^^^^^^^^^^^\n",
      "  File \"/Users/philip/code/uni/nn/.venv/lib/python3.11/site-packages/IPython/core/ultratb.py\", line 792, in lines\n",
      "    return self._sd.lines\n",
      "           ^^^^^^^^^^^^^^\n",
      "  File \"/Users/philip/code/uni/nn/.venv/lib/python3.11/site-packages/stack_data/utils.py\", line 145, in cached_property_wrapper\n",
      "    value = obj.__dict__[self.func.__name__] = self.func(obj)\n",
      "                                               ^^^^^^^^^^^^^^\n",
      "  File \"/Users/philip/code/uni/nn/.venv/lib/python3.11/site-packages/stack_data/core.py\", line 734, in lines\n",
      "    pieces = self.included_pieces\n",
      "             ^^^^^^^^^^^^^^^^^^^^\n",
      "  File \"/Users/philip/code/uni/nn/.venv/lib/python3.11/site-packages/stack_data/utils.py\", line 145, in cached_property_wrapper\n",
      "    value = obj.__dict__[self.func.__name__] = self.func(obj)\n",
      "                                               ^^^^^^^^^^^^^^\n",
      "  File \"/Users/philip/code/uni/nn/.venv/lib/python3.11/site-packages/stack_data/core.py\", line 681, in included_pieces\n",
      "    pos = scope_pieces.index(self.executing_piece)\n",
      "                             ^^^^^^^^^^^^^^^^^^^^\n",
      "  File \"/Users/philip/code/uni/nn/.venv/lib/python3.11/site-packages/stack_data/utils.py\", line 145, in cached_property_wrapper\n",
      "    value = obj.__dict__[self.func.__name__] = self.func(obj)\n",
      "                                               ^^^^^^^^^^^^^^\n",
      "  File \"/Users/philip/code/uni/nn/.venv/lib/python3.11/site-packages/stack_data/core.py\", line 660, in executing_piece\n",
      "    return only(\n",
      "           ^^^^^\n",
      "  File \"/Users/philip/code/uni/nn/.venv/lib/python3.11/site-packages/executing/executing.py\", line 116, in only\n",
      "    raise NotOneValueFound('Expected one value, found 0')\n",
      "executing.executing.NotOneValueFound: Expected one value, found 0\n"
     ]
    }
   ],
   "source": [
    "from nn_labs.nn.perf import MSELoss\n",
    "from nn_labs.image_net.load import load_fashion_mnist\n",
    "\n",
    "(X_train, Y_train), (X_test, Y_test) = load_fashion_mnist()\n",
    "\n",
    "X_train = X_train.reshape(-1, 1, 28, 28)\n",
    "X_test = X_test.reshape(-1, 1, 28, 28)\n",
    "\n",
    "EPOCHS = 2000\n",
    "BATCH_SIZE = 4086\n",
    "LEARNING_RATE = 10e-3\n",
    "batch_count = X_train.shape[0] // BATCH_SIZE\n",
    "\n",
    "loss_fn = MSELoss()\n",
    "\n",
    "for epoch in range(EPOCHS):\n",
    "    print(f\"Epoch: {epoch}\")\n",
    "    for batch_no in range(batch_count):\n",
    "        start_idx = batch_no * BATCH_SIZE\n",
    "        end_idx = start_idx + BATCH_SIZE\n",
    "\n",
    "        x = X_train[start_idx:end_idx]\n",
    "        y = Y_train[start_idx:end_idx]\n",
    "        \n",
    "        x_cmp = x.reshape(BATCH_SIZE, 784)\n",
    "        \n",
    "        prediction = bob_net.forward(x)\n",
    "        loss = loss_fn.calculate(prediction, x_cmp)\n",
    "        \n",
    "        loss_fn.backward(prediction, x_cmp)\n",
    "        bob_net.backward(loss_fn.d_inputs)\n"
   ],
   "metadata": {
    "collapsed": false,
    "ExecuteTime": {
     "end_time": "2023-12-09T17:15:42.176581Z",
     "start_time": "2023-12-09T17:15:38.749846Z"
    }
   },
   "id": "5fc6ff4b8fc5af16"
  },
  {
   "cell_type": "code",
   "execution_count": null,
   "outputs": [],
   "source": [],
   "metadata": {
    "collapsed": false,
    "ExecuteTime": {
     "end_time": "2023-12-09T17:15:42.183425Z",
     "start_time": "2023-12-09T17:15:42.180792Z"
    }
   },
   "id": "f1e9272c4c25a9fd"
  }
 ],
 "metadata": {
  "kernelspec": {
   "display_name": "Python 3",
   "language": "python",
   "name": "python3"
  },
  "language_info": {
   "codemirror_mode": {
    "name": "ipython",
    "version": 2
   },
   "file_extension": ".py",
   "mimetype": "text/x-python",
   "name": "python",
   "nbconvert_exporter": "python",
   "pygments_lexer": "ipython2",
   "version": "2.7.6"
  }
 },
 "nbformat": 4,
 "nbformat_minor": 5
}
