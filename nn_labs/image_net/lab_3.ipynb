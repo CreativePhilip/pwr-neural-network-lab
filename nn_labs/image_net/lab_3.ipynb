{
 "cells": [
  {
   "cell_type": "code",
   "execution_count": 1,
   "outputs": [],
   "source": [
    "import numpy as np"
   ],
   "metadata": {
    "collapsed": false,
    "ExecuteTime": {
     "end_time": "2023-12-09T19:11:45.400211Z",
     "start_time": "2023-12-09T19:11:45.336697Z"
    }
   },
   "id": "f76a833fa7dc68e5"
  },
  {
   "cell_type": "code",
   "execution_count": 2,
   "outputs": [],
   "source": [
    "from nn_labs.nn.layers import BaseLayer\n",
    "from nn_labs.nn.activation_functions import BaseActivationFunction\n",
    "\n",
    "from numpy.typing import NDArray\n",
    "\n",
    "class Network:\n",
    "    def __init__(self):\n",
    "        self.layers: list[BaseLayer | BaseActivationFunction] = []\n",
    "    \n",
    "    def add_layer(self, l: BaseLayer | BaseActivationFunction):\n",
    "        self.layers.append(l)\n",
    "        \n",
    "    def forward(self, x_in: NDArray) -> NDArray:\n",
    "        current = x_in\n",
    "        \n",
    "        for layer in self.layers:\n",
    "            current = layer.forward(current)\n",
    "            \n",
    "        return current\n",
    "    \n",
    "    def backward(self, d_loss: NDArray):\n",
    "        current_gradient = d_loss\n",
    "        \n",
    "        for layer in reversed(self.layers):\n",
    "            # print(current_gradient.shape, layer.__class__)\n",
    "            layer.backward(current_gradient)\n",
    "            \n",
    "            current_gradient = layer.d_inputs"
   ],
   "metadata": {
    "collapsed": false,
    "ExecuteTime": {
     "end_time": "2023-12-09T19:11:45.462620Z",
     "start_time": "2023-12-09T19:11:45.422163Z"
    }
   },
   "id": "initial_id"
  },
  {
   "cell_type": "code",
   "execution_count": 3,
   "outputs": [],
   "source": [
    "from nn_labs.nn.layers import Conv2D, DenseLayer, Flatten, MaxPool2D\n",
    "from nn_labs.nn.activation_functions import ReLU, Sigmoid\n",
    "\n",
    "bob_net = Network()\n",
    "\n",
    "bob_net.add_layer(Conv2D(1, 2, 16, 1))\n",
    "bob_net.add_layer(MaxPool2D(2, 2))\n",
    "bob_net.add_layer(Conv2D(16, 2, 16, 1))\n",
    "bob_net.add_layer(MaxPool2D(2, 2))\n",
    "bob_net.add_layer(Flatten())\n",
    "bob_net.add_layer(DenseLayer(256, 400))\n",
    "bob_net.add_layer(ReLU())\n",
    "bob_net.add_layer(DenseLayer(400, 784))\n",
    "bob_net.add_layer(Sigmoid())"
   ],
   "metadata": {
    "collapsed": false,
    "ExecuteTime": {
     "end_time": "2023-12-09T19:11:45.481067Z",
     "start_time": "2023-12-09T19:11:45.463329Z"
    }
   },
   "id": "86f02943f3613560"
  },
  {
   "cell_type": "code",
   "execution_count": 4,
   "outputs": [
    {
     "data": {
      "text/plain": "(100, 784)"
     },
     "execution_count": 4,
     "metadata": {},
     "output_type": "execute_result"
    }
   ],
   "source": [
    "x = np.ones((100, 1, 28, 28))\n",
    "\n",
    "out = bob_net.forward(x)\n",
    "\n",
    "out.shape"
   ],
   "metadata": {
    "collapsed": false,
    "ExecuteTime": {
     "end_time": "2023-12-09T19:11:45.569276Z",
     "start_time": "2023-12-09T19:11:45.469591Z"
    }
   },
   "id": "353b689e15cefb80"
  },
  {
   "cell_type": "code",
   "execution_count": null,
   "outputs": [
    {
     "name": "stdout",
     "output_type": "stream",
     "text": [
      "Epoch: 0\n",
      "0.17055302290657867\n",
      "0.17060672382418676\n",
      "0.170569420644888\n",
      "0.16996645811468394\n",
      "0.17084980822292786\n",
      "0.17089439781323407\n",
      "0.16990569976299558\n",
      "0.1702694666313282\n",
      "0.17036041409649869\n",
      "0.17056123229944478\n",
      "0.1697675684126144\n",
      "0.17006187321667415\n",
      "0.17045680084655399\n",
      "0.1697574683058327\n",
      "Epoch: 1\n",
      "0.17029671899926907\n",
      "0.17035313491455956\n",
      "0.17031828547592334\n",
      "0.16971798480646733\n",
      "0.17060163163813208\n",
      "0.17064631691231524\n",
      "0.16966043078707874\n",
      "0.17002473830615966\n",
      "0.17011850981431847\n",
      "0.1703197524625149\n",
      "0.1695263492793537\n",
      "0.16982011938407893\n",
      "0.1702184504886373\n",
      "0.16952051687933786\n",
      "Epoch: 2\n",
      "0.170056399768334\n",
      "0.1701149351766252\n",
      "0.17008196161963743\n",
      "0.16948408654310695\n",
      "0.1703680870770128\n",
      "0.1704129988883193\n",
      "0.16943025010905635\n",
      "0.16979600651655938\n",
      "0.16989365924987357\n",
      "0.17009700051832535\n",
      "0.16930556326659685\n",
      "0.16960106301752662\n",
      "0.17000542083344683\n",
      "0.1693113594610256\n",
      "Epoch: 3\n",
      "0.16984748543449746\n",
      "0.1699110754891323\n",
      "0.16988290111655094\n",
      "0.16929034145664315\n",
      "0.1701778871798654\n",
      "0.17022551412140982\n"
     ]
    }
   ],
   "source": [
    "from nn_labs.nn.perf import MSELoss\n",
    "from nn_labs.image_net.load import load_fashion_mnist\n",
    "from nn_labs.nn.optimizers import PhilipOptimizer2\n",
    "\n",
    "(X_train, Y_train), (X_test, Y_test) = load_fashion_mnist()\n",
    "\n",
    "X_train = X_train.reshape(-1, 1, 28, 28)\n",
    "X_test = X_test.reshape(-1, 1, 28, 28)\n",
    "\n",
    "EPOCHS = 2000\n",
    "BATCH_SIZE = 4086\n",
    "LEARNING_RATE = 10e-3\n",
    "batch_count = X_train.shape[0] // BATCH_SIZE\n",
    "opt = PhilipOptimizer2(bob_net, learning_rate=1e-4)\n",
    "\n",
    "loss_fn = MSELoss()\n",
    "\n",
    "for epoch in range(EPOCHS):\n",
    "    print(f\"Epoch: {epoch}\")\n",
    "    for batch_no in range(batch_count):\n",
    "        start_idx = batch_no * BATCH_SIZE\n",
    "        end_idx = start_idx + BATCH_SIZE\n",
    "\n",
    "        x = X_train[start_idx:end_idx]\n",
    "        y = Y_train[start_idx:end_idx]\n",
    "        \n",
    "        x_cmp = x.reshape(BATCH_SIZE, 784)\n",
    "        \n",
    "        prediction = bob_net.forward(x)\n",
    "        loss = loss_fn.calculate(prediction, x_cmp)\n",
    "        \n",
    "        print(loss)\n",
    "        \n",
    "        loss_fn.backward(prediction, x_cmp)\n",
    "        bob_net.backward(loss_fn.d_inputs)\n",
    "        \n",
    "        opt.step()\n"
   ],
   "metadata": {
    "collapsed": false,
    "is_executing": true,
    "ExecuteTime": {
     "start_time": "2023-12-09T19:11:45.572392Z"
    }
   },
   "id": "5fc6ff4b8fc5af16"
  },
  {
   "cell_type": "code",
   "execution_count": null,
   "outputs": [],
   "source": [],
   "metadata": {
    "collapsed": false,
    "is_executing": true
   },
   "id": "f1e9272c4c25a9fd"
  }
 ],
 "metadata": {
  "kernelspec": {
   "display_name": "Python 3",
   "language": "python",
   "name": "python3"
  },
  "language_info": {
   "codemirror_mode": {
    "name": "ipython",
    "version": 2
   },
   "file_extension": ".py",
   "mimetype": "text/x-python",
   "name": "python",
   "nbconvert_exporter": "python",
   "pygments_lexer": "ipython2",
   "version": "2.7.6"
  }
 },
 "nbformat": 4,
 "nbformat_minor": 5
}
